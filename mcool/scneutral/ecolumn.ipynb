{
 "cells": [
  {
   "cell_type": "markdown",
   "metadata": {},
   "source": [
    "# e-column simulation\n",
    " from Chong Shik Park\n",
    " \n",
    " - Testing Warp utility functions - Chris Hall\n",
    " - Loads HDF5 ParticleDiagnostic module\n",
    " - FieldDiagnostic module on works with EM3D field solver. Doesn't appear usable in this simulation.\n",
    " - Test functions for loading .h5 files to dictionaries"
   ]
  },
  {
   "cell_type": "code",
   "execution_count": null,
   "metadata": {
    "collapsed": true
   },
   "outputs": [],
   "source": [
    "%matplotlib inline\n",
    "%load_ext autoreload\n",
    "%autoreload 2"
   ]
  },
  {
   "cell_type": "code",
   "execution_count": null,
   "metadata": {
    "collapsed": false
   },
   "outputs": [],
   "source": [
    "import sys\n",
    "del sys.argv[1:] #  Necessry to run 'from warp import *' in IPython notebook without conflict.\n",
    "from warp import *\n",
    "from warp.run_modes.egun_like import * #Need full path in module import\n",
    "from warp.utils.timedependentvoltage import TimeVoltage\n",
    "from warp.particles.ionization import *\n",
    "from warp.particles.extpart import ZCrossingParticles\n",
    "from warp.data_dumping.openpmd_diag import particle_diag\n",
    "from warp.data_dumping.openpmd_diag import field_diag\n",
    "#from Secondaries import *"
   ]
  },
  {
   "cell_type": "code",
   "execution_count": null,
   "metadata": {
    "collapsed": false
   },
   "outputs": [],
   "source": [
    "# which geometry to use 2d or 3d\n",
    "#w3d.solvergeom = w3d.RZgeom\n",
    "w3d.solvergeom = w3d.XYZgeom\n",
    "\n",
    "\n",
    "#define some strings that go into the output file\n",
    "top.pline1     = \"e-column\"\n",
    "top.pline2     = \"e-column - simplified\"\n",
    "top.runmaker   = \"Chong Shik Park (cspark@fnal.gov)\""
   ]
  },
  {
   "cell_type": "code",
   "execution_count": null,
   "metadata": {
    "collapsed": false
   },
   "outputs": [],
   "source": [
    "# --- Invoke setup routine for the plotting\n",
    "#setup() \n",
    "setup(makepsfile=1, cgmlog=1)\n",
    "\n",
    "# --- Set basic beam parameters\n",
    "#ibeaminit     =  5e-3   # in A, 5mA\n",
    "ibeaminit      =  8e-3   # in A, 8mA from HINS\n",
    "ekininit       =  2.5e6  # in eV, 2.5 MeV HINS proton beam\n",
    "\n",
    "# Scan parameters\n",
    "Vbias = -2000.   # Should be negative \n",
    "Bsol  = 0.5 \n",
    "\n",
    "# --- Set input parameters describing the 3d simulation\n",
    "#top.dt = 1.e-11  # time step\n",
    "#do faster time steps for testing\n",
    "#top.dt = 2.5e-10  # time step\n",
    "#do a much faster time steps for testing\n",
    "#top.dt = 2e-9 # time step\n",
    "\n",
    "top.dt = 1.5e-11 # considering the Larmor frequency of electrons in 0.5 T 0.25*(2Pi /wc)\n",
    "\n",
    "sw = 149794 # for 5 particle per injection \n",
    "#sw is calculated from (ibeaminint top.dt / q /  top.npinject)\n",
    "\n",
    "# relativistic correction\n",
    "beta   = 0.0728557\n",
    "fselfb_option = clight*beta"
   ]
  },
  {
   "cell_type": "code",
   "execution_count": null,
   "metadata": {
    "collapsed": true
   },
   "outputs": [],
   "source": [
    "# --- define Species\n",
    "ions       = Species(type=Hydrogen,charge_state=+1,name='p',     weight = sw)\n",
    "electrons  = Species(type=Electron, name='e-',                   weight = 2*sw)\n",
    "h2plus     = Species(type=Dihydrogen, charge_state=+1,name='H2+',weight = 2*sw)\n",
    "#hplus      = Species(type=Hydrogen, charge_state=+1,name='H+')\n",
    "#hneutral   = Species(type=Hydrogen, charge_state=0, name='H')\n",
    "#h2neutral  = Species(type=Dihydrogen, charge_state=0,name='H2')\n",
    "\n",
    "top.finject[0, ions.jslist[0]]      = 1\n",
    "top.finject[0, electrons.jslist[0]] = 0\n",
    "top.finject[0, h2plus.jslist[0]]    = 0\n",
    "#top.finject[0, hplus.jslist[0]]     = 0\n",
    "#top.finject[0, hneutral.jslist[0]]  = 0\n",
    "#top.finject[0, h2neutral.jslist[0]] = 0"
   ]
  },
  {
   "cell_type": "code",
   "execution_count": null,
   "metadata": {
    "collapsed": true
   },
   "outputs": [],
   "source": [
    "# --- starting conditions for the ion and electron beam\n",
    "top.a0       =    0.01  \n",
    "top.b0       =    0.01  \n",
    "top.ap0      =    0.0 \n",
    "top.bp0      =    0.0\n",
    "top.vbeam    =    .0e0  # In derivqty(), the beam velocity will be calculated by ekininit anyhow.\n",
    "top.emit     =    2.e-6 # To define distrbtn, it is likely that we need emittance \n",
    "top.ibeam    = ibeaminit\n",
    "top.ekin     = ekininit   # in eV\n",
    "top.vthz     =    sqrt(2.*abs(ions.charge)/ions.mass * 250) #convert from eV to m/s\n",
    "top.lrelativ =    true\n",
    "derivqty()\n",
    "\n",
    "w3d.l4symtry = false  # four-fold symmetry\n",
    "w3d.l2symtry = false  # two-fold symmetry\n",
    "\n",
    "vz=sqrt(2.*abs(ions.charge)*ions.ekin/ions.mass) # ion velocity"
   ]
  },
  {
   "cell_type": "code",
   "execution_count": null,
   "metadata": {
    "collapsed": true
   },
   "outputs": [],
   "source": [
    "# --- Set boundary conditions\n",
    "\n",
    "# ---   for field solve\n",
    "w3d.bound0  = neumann #dirichlet\n",
    "w3d.boundnz = neumann\n",
    "w3d.boundxy = dirichlet #neumann\n",
    "\n",
    "# ---   for particles\n",
    "top.pbound0  = absorb\n",
    "top.pboundnz = absorb\n",
    "top.prwall   = 25.e-3 # 25 mm\n",
    "\n",
    "le = 1.0 # length of the ecolumn length\n",
    "\n",
    "# --- Set field grid size\n",
    "w3d.xmmin = -top.prwall\n",
    "w3d.xmmax = +top.prwall\n",
    "w3d.ymmin = -top.prwall\n",
    "w3d.ymmax = +top.prwall\n",
    "w3d.zmmin =  0.0-0.1\n",
    "w3d.zmmax  = le +0.1  # 1-m-long ecolumn length\n",
    "\n",
    "step_ini=int((w3d.zmmax/vz)/top.dt)\n",
    "\n",
    "if w3d.l4symtry: w3d.xmmin = 0.\n",
    "if w3d.l2symtry or w3d.l4symtry: w3d.ymmin = 0.\n",
    "\n",
    "# set grid spacing\n",
    "w3d.dx = (2.*top.prwall)/100. \n",
    "w3d.dy = (2.*top.prwall)/100.\n",
    "w3d.dz = 1./100.\n",
    "\n",
    "# --- Field grid dimensions - nx and ny do not need to be even\n",
    "w3d.nx    = int((w3d.xmmax - w3d.xmmin)/w3d.dx)\n",
    "w3d.xmmax = w3d.xmmin + w3d.nx*w3d.dx\n",
    "w3d.ny    = int((w3d.ymmax - w3d.ymmin)/w3d.dy)\n",
    "w3d.ymmax = w3d.ymmin + w3d.ny*w3d.dy\n",
    "w3d.nz    = int((w3d.zmmax - w3d.zmmin)/w3d.dz)\n",
    "w3d.zmmax = w3d.zmmin + w3d.nz*w3d.dz"
   ]
  },
  {
   "cell_type": "code",
   "execution_count": null,
   "metadata": {
    "collapsed": true
   },
   "outputs": [],
   "source": [
    "# --- Specify injection of the particles\n",
    "top.npmax     = 500    # To laod initial plasma, this line should be commented out ! (by Dave Grote). Also the number is not corret either.\n",
    "top.inject    = 1      # 0: no injection, 1: constant current, 2: space-charge limited injection\n",
    "#top.rinject  = 9999.  # Source radius of curvature # not needed\n",
    "\n",
    "top.npinject  = 5      # Approximate number of particles injected each step, I reduced it from 1552 to 15\n",
    "\n",
    "top.linj_efromgrid = true  # Turn on transverse E-fields near emitting surface\n",
    "top.zinject = w3d.zmmin    # initial z of particle injection?\n",
    "top.ibpush   = 1           # Specifies type of B-advance; 0 - none, 1 - fast\n",
    "#top.zinject = 9.51*mm\n",
    "#top.thetainject = 3.0*deg # tilt the source\n",
    "\n",
    "\n",
    "w3d.distrbtn = \"TE\" #Pseudo Thermal Equilibrium\n",
    "w3d.cylinder = true\n",
    "w3d.ldprfile = \"polar\" \n",
    "\n",
    "top.inject = 1\n",
    "source_radius = 5.5e-3 # 5.5 mm from MAD\n",
    "\n",
    "top.ainject = source_radius\n",
    "top.binject = source_radius\n",
    "w3d.l_inj_user_particles_v = true\n",
    "\n",
    "def nonlinearsource():\n",
    "    if w3d.inj_js == ions.jslist[0]:\n",
    "        np = top.npinject\n",
    "        r = source_radius*random.random(np)\n",
    "        theta = 2.*pi*random.random(np)\n",
    "        x = r*cos(theta)\n",
    "        y = r*sin(theta)\n",
    "        w3d.npgrp = np\n",
    "        gchange('Setpwork3d')\n",
    "        w3d.xt[:] = x\n",
    "        w3d.yt[:] = y\n",
    "        w3d.uxt[:] = 0.\n",
    "        w3d.uyt[:] = 0.\n",
    "        w3d.uzt[:] = vz\n",
    "\n",
    "installuserparticlesinjection(nonlinearsource)"
   ]
  },
  {
   "cell_type": "code",
   "execution_count": null,
   "metadata": {
    "collapsed": false
   },
   "outputs": [],
   "source": [
    "\"\"\"\n",
    "#---- defin beam with real particle data\n",
    "\n",
    "w3d.l_inj_user_particles_v = true\n",
    "\n",
    "xdata,ydata,vxdata,vydata,vzdata=getdatafromtextfile('30.5.lebt1.warp',dims=[5,None])\n",
    "\n",
    "def createrealbeam():\n",
    "  if w3d.inj_js == ions.jslist[0]:\n",
    "#    ii=(random.random(len(xdata))<0.9)\n",
    "#    w3d.npgrp = sum(ii)\n",
    "    w3d.npgrp=1552\n",
    "    offset = [0.00 for i in range(w3d.npgrp)]\n",
    "    gchange('Setpwork3d')\n",
    "    w3d.xt[:] = xdata + offset\n",
    "    w3d.yt[:] = ydata\n",
    "    w3d.uxt[:] = vxdata\n",
    "    w3d.uyt[:] = vydata\n",
    "    w3d.uzt[:] = vzdata\n",
    "\n",
    "installuserparticlesinjection(createrealbeam)\n",
    "\"\"\""
   ]
  },
  {
   "cell_type": "code",
   "execution_count": null,
   "metadata": {
    "collapsed": true
   },
   "outputs": [],
   "source": [
    "# --- Select plot intervals, etc.\n",
    "top.nhist = 1 # Save history data every time step\n",
    "top.itplfreq[0:4]=[0,1000000,25,0] # Make plots every 25 time steps\n",
    "top.itmomnts[0:4]=[0,1000000,top.nhist,0] # Calculate moments every step\n",
    "\n",
    "# --- Save time histories of various quantities versus z.\n",
    "top.lhcurrz  = true\n",
    "top.lhrrmsz  = true\n",
    "top.lhxrmsz  = true\n",
    "top.lhyrmsz  = true\n",
    "top.lhepsnxz = true\n",
    "top.lhepsnyz = true\n",
    "top.lhvzrmsz = true\n"
   ]
  },
  {
   "cell_type": "code",
   "execution_count": null,
   "metadata": {
    "collapsed": false
   },
   "outputs": [],
   "source": [
    "# --- Create the field solver.--> This is the one suggested by Dave\n",
    "#solver = MultiGrid3D()\n",
    "#registersolver(solver)\n",
    "\n",
    "# --- Set up fieldsolver - 7 means the multigrid solver\n",
    "top.fstype     = 7\n",
    "f3d.mgtol      = 1.e-1 # Poisson solver tolerance, in volts\n",
    "f3d.mgparam    =  1.5\n",
    "f3d.downpasses =  2\n",
    "f3d.uppasses   =  2\n",
    "\n",
    "# --- Generate the PIC code (allocate storage, load ptcls, t=0 plots, etc.)\n",
    "package(\"w3d\")\n",
    "generate()"
   ]
  },
  {
   "cell_type": "markdown",
   "metadata": {},
   "source": [
    "# HDF5 Diagnostics"
   ]
  },
  {
   "cell_type": "code",
   "execution_count": null,
   "metadata": {
    "collapsed": false
   },
   "outputs": [],
   "source": [
    "h5output = 'diags/hdf5/'\n",
    "\n",
    "def cleanupPrevious(outputDirectory = 'diags/hdf5/'):\n",
    "    if os.path.exists(outputDirectory):\n",
    "        files = os.listdir(outputDirectory)\n",
    "        for file in files:\n",
    "            if file.endswith('.h5'):\n",
    "                os.remove(os.path.join(outputDirectory,file))\n",
    "\n",
    "cleanupPrevious()\n",
    "\n",
    "#Version of Warp currently installed on Container doesn't handle species weights correctly - 4/21/16\n",
    "diagP = particle_diag.ParticleDiagnostic( period=5, top=top, w3d=w3d,\n",
    "        species= { species.name : species for species in listofallspecies },\n",
    "        particle_data=[\"position\",\"momentum\"],\n",
    "        comm_world=comm_world, lparallel_output=True, )\n",
    "\n",
    "installafterstep( diagP.write )\n"
   ]
  },
  {
   "cell_type": "code",
   "execution_count": null,
   "metadata": {
    "collapsed": false
   },
   "outputs": [],
   "source": [
    "#################################################################################################################\n",
    "\n",
    "beampipe        = ZCylinderOut(radius=top.prwall,     zlower=w3d.zmmin, zupper=w3d.zmmax,voltage= 0.0,  xcent=0,ycent=0,zcent=0)\n",
    "electrode_left  = ZCylinderOut(radius=top.prwall*0.9, zlower=0.0-0.05,  zupper=0.0+0.05, voltage= Vbias,xcent=0,ycent=0)\n",
    "electrode_right = ZCylinderOut(radius=top.prwall*0.9, zlower=le -0.05,  zupper=le +0.05, voltage= Vbias,xcent=0,ycent=0)\n",
    "\n",
    "installconductors(beampipe)\n",
    "installconductors(electrode_left + electrode_right)\n",
    "addsolenoid(zi=0., zf = le, ri=top.prwall, maxbz= Bsol) \n",
    "\n",
    "# --- Recalculate the fields\n",
    "fieldsolve(-1)\n",
    "\n",
    "target_density = 3.54e19 #1.e-3 torr\n",
    "\n",
    "# There was an error in the NERSC in this step.\n",
    "\"\"\"\n",
    "target_density = zeros((w3d.nx+1, w3d.ny+1, w3d.nz+1))\n",
    "target_density[:,:,:int(w3d.nz/2)]  = 3.54e19 #1.e-3 torr\n",
    "target_density[:,:,int(w3d.nz/2):]  = 3.54e19 #1.e-3 torr\n",
    "\"\"\"\n",
    "\n",
    "# --- setup the charge exchange\n",
    "ioniz = Ionization(stride=5, zmin=0., zmax=le)\n",
    "# ionization only in the middle"
   ]
  },
  {
   "cell_type": "code",
   "execution_count": null,
   "metadata": {
    "collapsed": false
   },
   "outputs": [],
   "source": [
    "#ioniz.add_chargeexchange(ions, ions,\n",
    "#\t\tcross_section=1.e-20,\n",
    "#\t\tndens=1.e17,\n",
    "#\t\temitted_energy0=0.,\n",
    "#\t\temitted_energy_sigma=0.,\n",
    "#\t\temitted_tag=1)\n",
    "\n",
    "# ------------p ionziation: p + H2 -> p + e + H2+\n",
    "ioniz.add(ions, emitted_species = [h2plus, electrons], emitted_energy0=0.026, emitted_energy_sigma=0, cross_section=1.5e-21, ndens=target_density)\n",
    "#ioniz.add(ions, emitted_species = [electrons], emitted_energy0=0.026, emitted_energy_sigma=0, cross_section=1.5e-21, ndens=target_density)\n",
    "\n",
    "#ioniz.add(ions, emitted_species = [h2plus],    emitted_energy0=0.026, emitted_energy_sigma=0, cross_section=1.5e-21, ndens=target_density)\n",
    "#ioniz.add(ions, emitted_species = [electrons], emitted_energy0=1,     emitted_energy_sigma=0, cross_section=1.5e-21, ndens=target_density)\n",
    "\n",
    "# ---------- H- detarchment:  H- + H2 -> H + e + H2\n",
    "#ioniz.add_detachment(incident_species=ions, target_species=h2neutral, emitted_species=[hneutral, h2neutral, electrons], ndens=target_density)\n",
    "\n",
    "# ------ electron ionization e + H2 -> H2+ + e + e\n",
    "#ioniz.add_ionization(incident_species=electrons, target_species=h2neutral, emitted_species=[h2plus, electrons], ndens=1.e17)\n",
    "ioniz.add_ionization(incident_species=electrons, emitted_species=[h2plus, electrons], emitted_energy0=0.026, emitted_energy_sigma=0, cross_section=1.3e-20, ndens = target_density)\n",
    "#ioniz.add_ionization(incident_species=electrons, emitted_species=[electrons], emitted_energy0=0.026, emitted_energy_sigma=0, cross_section=1.3e-20, ndens = target_density)\n",
    "\n",
    "ixcenter = int(w3d.nx/2)\n",
    "iycenter = int(w3d.ny/2)\n",
    "izcenter = int(w3d.nz/2)\n",
    "\n",
    "xcoord = zeros(w3d.nx+1,float)\n",
    "for k in range(0, w3d.nx+1):\n",
    "    xcoord[k] = w3d.xmmin + k * w3d.dx\n",
    "\n",
    "zcoord = zeros(w3d.nz+1,float)\n",
    "for k in range(0, w3d.nz+1):\n",
    "    zcoord[k] = w3d.zmmin + k * w3d.dz\n",
    "\n",
    "eden_time = []\n",
    "col_time = []"
   ]
  },
  {
   "cell_type": "code",
   "execution_count": null,
   "metadata": {
    "collapsed": false
   },
   "outputs": [],
   "source": [
    "save_repetition = 5\n",
    "plot_repetition = 10\n",
    "\n",
    "#Run for a few steps to check that its working:\n",
    "final_iter = 100 #57483 * 2\n",
    "\n",
    "iter = 0\n",
    "dorun = true\n",
    "while(dorun):\n",
    "    if(iter % plot_repetition == 0):\n",
    "\n",
    "        ions.ppzx(color=red, titles = 0, view=9, pplimits=(w3d.zmmin, w3d.zmmax, -top.prwall, top.prwall))\n",
    "        pfzx(fill=1,filled=0, plotsg=0,titles = 0, cond=0,view=9)\n",
    "\n",
    "        h2plus.ppzx(color=blue, titles = 0,msize=100, view=10)\n",
    "        electrons.ppzx(color=green, titles = 0, msize=100, view=10, pplimits=(w3d.zmmin, w3d.zmmax, -top.prwall, top.prwall))\n",
    "        fma()\n",
    "\n",
    "        iden  = ions.get_density()\n",
    "        eden  = electrons.get_density()\n",
    "        hden  = h2plus.get_density() \n",
    "\n",
    "        ptitles(titlet = \"Density (#/m3) at x=y=0\", titleb = \"Z (m)\", titlel =\" \")\n",
    "        limits(w3d.zmmin, w3d.zmmax)\n",
    "        pla(iden[ixcenter,iycenter,0:], zcoord, color = red)\n",
    "        pla(eden[ixcenter,iycenter,0:], zcoord, color = green)\n",
    "        pla(hden[ixcenter,iycenter,0:], zcoord, color = blue)\n",
    "        fma()\n",
    "\n",
    "        ptitles(titlet = \"Density (#/m3) at ecolumn center\", titleb = \"X (m)\", titlel =\" \")\n",
    "        limits(w3d.xmmin, w3d.xmmax)\n",
    "        pla(iden[0:,iycenter,izcenter], xcoord, color = red)\n",
    "        pla(eden[0:,iycenter,izcenter], xcoord, color = green)\n",
    "        pla(hden[0:,iycenter,izcenter], xcoord, color = blue)\n",
    "        fma()\n",
    "\n",
    "        # longitudinal electric fields\n",
    "        ez = getselfe(comp=\"z\", ix = ixcenter,  iy = iycenter)\n",
    "        ptitles(titlet = \"Self electric fields (V/m) along the beam\", titleb = \"Z (m)\",titlel =\" \")\n",
    "        limits(w3d.zmmin, w3d.zmmax)\n",
    "        pla(ez, zcoord,  color= red)\n",
    "        fma()\n",
    "\n",
    "        # transverse electric fields\n",
    "        ex = getselfe(comp=\"x\", iy = iycenter,  iz = izcenter)\n",
    "        ptitles(titlet = \"Self electric fields (V/m) along the beam\", titleb = \"X (m)\",titlel =\" \")\n",
    "        limits(w3d.xmmin, w3d.xmmax)\n",
    "        pla(ex, xcoord,  color= red)\n",
    "        fma()\n",
    "\n",
    "        eden_time.append( (eden[ixcenter,iycenter,izcenter] + eden[ixcenter,iycenter,izcenter-1] + eden[ixcenter,iycenter,izcenter+1])/3. )\n",
    "        col_time.append( top.time )\n",
    "\n",
    "    if (iter % save_repetition == 0):\n",
    "        nions = ions.getn()\n",
    "        xions = ions.getx()\n",
    "        yions = ions.gety()     \n",
    "        zions = ions.getz()\n",
    "        pidions = ions.getpid()\n",
    "\n",
    "        ions_track = open(\"protons_%06d.txt\" % iter,\"w\")\n",
    "        for i in range(nions):\n",
    "            ions_track.write(\"%g %15.12f %15.12f %15.12f %g\\n\" % (i, xions[i], yions[i], zions[i], pidions[i]))\n",
    "        ions_track.close()\n",
    "\n",
    "        nelectrons = electrons.getn()\n",
    "        xelectrons = electrons.getx()\n",
    "        yelectrons = electrons.gety()\n",
    "        zelectrons = electrons.getz()\n",
    "        pidelectrons = electrons.getpid()\n",
    "\n",
    "        electrons_track = open(\"electrons_%06d.txt\" % iter,\"w\")\n",
    "        for i in range(nelectrons):\n",
    "            electrons_track.write(\"%g %15.12f %15.12f %15.12f %g\\n\" % (i, xelectrons[i], yelectrons[i], zelectrons[i], pidelectrons[i]))\n",
    "        electrons_track.close()\n",
    "\n",
    "        nh2plus = h2plus.getn()\n",
    "        xh2plus = h2plus.getx()\n",
    "        yh2plus = h2plus.gety()\n",
    "        zh2plus = h2plus.getz()\n",
    "        pidh2plus = h2plus.getpid()\n",
    "\n",
    "        h2plus_track = open(\"h2plus_%06d.txt\" % iter,\"w\")\n",
    "        for i in range(nh2plus):\n",
    "            h2plus_track.write(\"%g %15.12f %15.12f %15.12f %g\\n\" % (i, xh2plus[i], yh2plus[i], zh2plus[i], pidh2plus[i]))\n",
    "        h2plus_track.close()\n",
    "\n",
    "        fdenx = open('denx_%06d.txt' % iter,'w')\n",
    "        fex   = open('ex_%06d.txt' % iter, 'w')\n",
    "        for i in range(0, w3d.nx+1):\n",
    "            iave = (iden[i,iycenter,izcenter]+iden[i,iycenter,izcenter-1]+iden[i,iycenter,izcenter+1])/3.0\n",
    "            eave = (eden[i,iycenter,izcenter]+eden[i,iycenter,izcenter-1]+eden[i,iycenter,izcenter+1])/3.0\n",
    "            have = (hden[i,iycenter,izcenter]+hden[i,iycenter,izcenter-1]+hden[i,iycenter,izcenter+1])/3.0\n",
    "            fdenx.write('%e %e %e %e \\n' % (xcoord[i], iave, eave, have))\n",
    "            fex.write('%e %e\\n' % (xcoord[i], ex[i]))\n",
    "        fdenx.close()\n",
    "        fex.close()\n",
    "\n",
    "        fdenz = open('denz_%06d.txt' % iter,'w')\n",
    "        fez   = open('ez_%06d.txt' % iter, 'w')\n",
    "        for k in range(1, w3d.nz+1-1):\n",
    "            iave = (iden[ixcenter,ixcenter, k]+iden[ixcenter,iycenter, k-1]+iden[ixcenter,iycenter, k+1])/3.0\n",
    "            eave = (eden[ixcenter,ixcenter, k]+eden[ixcenter,iycenter, k-1]+eden[ixcenter,iycenter, k+1])/3.0\n",
    "            have = (hden[ixcenter,ixcenter, k]+hden[ixcenter,iycenter, k-1]+hden[ixcenter,iycenter, k+1])/3.0\n",
    "            fdenz.write('%e %e %e %e \\n' % (zcoord[k], iave, eave, have))\n",
    "            fez.write('%e %e\\n' % (zcoord[k], ez[k]))\n",
    "        fdenz.close()\n",
    "        fez.close()\n",
    " \n",
    "    \"\"\"\n",
    "    # I Think this routine causes serious delay \n",
    "    edenave = 0.0\n",
    "    eden  = electrons.get_density()\n",
    "    for k in range(0, w3d.nz+1):\n",
    "        edenave = edenave + eden[ixcenter,iycenter,k]\n",
    "    edentime[iter] = edenave / (w3d.nz+1)\n",
    "    \"\"\"\n",
    "\n",
    "    step(1)\n",
    "    iter = iter + 1\n",
    "    if (iter >= final_iter):\n",
    "        dorun = false"
   ]
  },
  {
   "cell_type": "code",
   "execution_count": null,
   "metadata": {
    "collapsed": true
   },
   "outputs": [],
   "source": [
    "# Plot for final state: routine to save ex and ez into files \t\t\n",
    "fdenx = open('denx.txt','w') # If I use \"a\" option, NERSC gives repetition of data\n",
    "for i in range(0, w3d.nx+1):\n",
    "    iave = (iden[i,iycenter,izcenter]+iden[i,iycenter,izcenter-1]+iden[i,iycenter,izcenter+1])/3.0\n",
    "    eave = (eden[i,iycenter,izcenter]+eden[i,iycenter,izcenter-1]+eden[i,iycenter,izcenter+1])/3.0\n",
    "    have = (hden[i,iycenter,izcenter]+hden[i,iycenter,izcenter-1]+hden[i,iycenter,izcenter+1])/3.0\n",
    "    fdenx.write('%e %e %e %e \\n' % (xcoord[i], iave, eave, have))\n",
    "fdenx.close()\n",
    "\t\n",
    "fdenz = open('denz.txt','w')\n",
    "for k in range(1, w3d.nz+1-1):\n",
    "    iave = (iden[ixcenter,ixcenter, k]+iden[ixcenter,iycenter, k-1]+iden[ixcenter,iycenter, k+1])/3.0\n",
    "    eave = (eden[ixcenter,ixcenter, k]+eden[ixcenter,iycenter, k-1]+eden[ixcenter,iycenter, k+1])/3.0\n",
    "    have = (hden[ixcenter,ixcenter, k]+hden[ixcenter,iycenter, k-1]+hden[ixcenter,iycenter, k+1])/3.0\n",
    "    fdenz.write('%e %e %e %e \\n' % (zcoord[k], iave, eave, have))\n",
    "fdenz.close()"
   ]
  },
  {
   "cell_type": "code",
   "execution_count": null,
   "metadata": {
    "collapsed": true
   },
   "outputs": [],
   "source": [
    "#time history of electron desntiy \n",
    "ptitles(titlet = \"Electron density (#/m3) at center\", titleb = \"Time (s)\", titlel =\" \")\n",
    "pla(eden_time, col_time,  color= red)\n",
    "fma()\n",
    "\n",
    "fdentime = open('dentime.txt','w')\n",
    "for i in range(0, len(col_time)):\n",
    "    fdentime.write('%e %e \\n' % (col_time[i],eden_time[i]))\n",
    "fdentime.close()\n",
    "\n",
    "# phase-space plot to see any instability\n",
    "ions.ppzvtheta (view = 3,color=red)\n",
    "ions.ppzvr(view = 4,color=red)\n",
    "ions.ppxvx(view = 5,color=red)\n",
    "ions.ppzvz(view = 6,color=red)\n",
    "fma()"
   ]
  },
  {
   "cell_type": "markdown",
   "metadata": {},
   "source": [
    "# Analysis"
   ]
  },
  {
   "cell_type": "code",
   "execution_count": null,
   "metadata": {
    "collapsed": false
   },
   "outputs": [],
   "source": [
    "from file_utils import readparticles, loadparticlefiles\n",
    "from beam_analysis import convertunits"
   ]
  },
  {
   "cell_type": "code",
   "execution_count": null,
   "metadata": {
    "collapsed": false
   },
   "outputs": [],
   "source": [
    "#Import phase space data for single step\n",
    "array005 = readparticles('diags/hdf5/data00000005.h5')\n",
    "\n",
    "for key in array005:\n",
    "    print key"
   ]
  },
  {
   "cell_type": "code",
   "execution_count": null,
   "metadata": {
    "collapsed": false
   },
   "outputs": [],
   "source": [
    "#Import phase space data from all steps. Uses readparticles()\n",
    "stepArrays = loadparticlefiles('diags/hdf5/')"
   ]
  },
  {
   "cell_type": "code",
   "execution_count": null,
   "metadata": {
    "collapsed": false
   },
   "outputs": [],
   "source": [
    "#Convert units of phase space\n",
    "cA070 = convertunits(stepArrays[70]['p'])"
   ]
  },
  {
   "cell_type": "code",
   "execution_count": null,
   "metadata": {
    "collapsed": true
   },
   "outputs": [],
   "source": [
    "#Plot phase space of one of the snapshots\n",
    "plotphasespace(cA070)"
   ]
  }
 ],
 "metadata": {
  "kernelspec": {
   "display_name": "Python 2",
   "language": "python",
   "name": "python2"
  },
  "language_info": {
   "codemirror_mode": {
    "name": "ipython",
    "version": 2
   },
   "file_extension": ".py",
   "mimetype": "text/x-python",
   "name": "python",
   "nbconvert_exporter": "python",
   "pygments_lexer": "ipython2",
   "version": "2.7.11"
  }
 },
 "nbformat": 4,
 "nbformat_minor": 0
}
