{
 "cells": [
  {
   "cell_type": "code",
   "execution_count": 1,
   "metadata": {
    "collapsed": false
   },
   "outputs": [],
   "source": [
    "%matplotlib inline\n",
    "import h5py\n",
    "from matplotlib import pyplot as plt\n",
    "import numpy as np\n",
    "from opmd_viewer import OpenPMDTimeSeries\n",
    "import os\n",
    "from rswarp.utilities.file_utils import *\n",
    "from rswarp.utilities.beam_analysis import *"
   ]
  },
  {
   "cell_type": "markdown",
   "metadata": {},
   "source": [
    "## Particle diagnostics"
   ]
  },
  {
   "cell_type": "code",
   "execution_count": 2,
   "metadata": {
    "collapsed": false
   },
   "outputs": [],
   "source": [
    "#Import phase space data from all steps. Uses readparticles()\n",
    "stepArrays = loadparticlefiles('diags/xySlice/hdf5/')\n",
    "steps = stepArrays.keys()\n",
    "steps.sort()"
   ]
  },
  {
   "cell_type": "code",
   "execution_count": 3,
   "metadata": {
    "collapsed": false
   },
   "outputs": [
    {
     "data": {
      "image/png": "[encoded data removed]",
      "text/plain": [
       "<matplotlib.figure.Figure at 0x7f14a1715ed0>"
      ]
     },
     "metadata": {},
     "output_type": "display_data"
    }
   ],
   "source": [
    "eleccount = [len(stepArrays[s]['e-']) for s in steps]\n",
    "t = [stepArrays[s]['time'] for s in steps]\n",
    "\n",
    "fig = plt.figure(figsize=(12,6))\n",
    "plt.suptitle('Particle counts over time',fontsize=20)\n",
    "plt.plot(t,eleccount,'g-', label='beam e-')\n",
    "plt.xlabel('time (s)')\n",
    "plt.legend(loc='lower right')\n",
    "\n",
    "plt.show()"
   ]
  },
  {
   "cell_type": "code",
   "execution_count": 4,
   "metadata": {
    "collapsed": false
   },
   "outputs": [],
   "source": [
    "filteredsteps = []  # Disables all phase space plotting\n",
    "# filteredsteps = steps[::]   # all steps\n",
    "# filteredsteps = steps[-2:-1]  # last step\n",
    "# filteredsteps = steps[0:1]  # first step\n",
    "elecdata = [convertunits(stepArrays[s]['e-']) for s in filteredsteps]\n",
    "times = [stepArrays[s]['time'] for s in filteredsteps]\n",
    "if len(times) > 0:\n",
    "    print(\"Length of data: %i steps, from %.2E to %.2E s\" % (len(times),times[0],times[-1]))"
   ]
  },
  {
   "cell_type": "code",
   "execution_count": 5,
   "metadata": {
    "collapsed": false,
    "scrolled": false
   },
   "outputs": [],
   "source": [
    "figs = []\n",
    "def plotDecorate(fig,name):\n",
    "    fig.suptitle(\"%s phase space for step %i time %.3E s\" % (name,filteredsteps[i],times[i]))\n",
    "    fig.axes[4].set_xlim(0.0,1.0) # z limits\n",
    "    \n",
    "def emitplotDecorate(fig,name):\n",
    "    fig.suptitle(\"%s phase space for step %i time %.3E s\" % (name,filteredsteps[i],times[i]))\n",
    "    fig.axes[0].set_ylim(-1000,1000)\n",
    "    fig.axes[1].set_ylim(-1000,1000)\n",
    "    fig.axes[4].set_xlim(0.0,1.0) # z limits\n",
    "\n",
    "for i in range(0,len(filteredsteps)):\n",
    "    for d in [\n",
    "        {'data': elecdata[i], 'color': 'g', 'name': 'e-', 'fraction': 0.33, 'plotDecorate': plotDecorate}\n",
    "    ]:\n",
    "        data = d['data']\n",
    "        if len(data) > 0:\n",
    "            plotDecorate = d['plotDecorate']\n",
    "            fraction = d['fraction']\n",
    "            mask = np.random.choice([False, True], len(data), p=[1 - fraction, fraction])\n",
    "            # print(\"Showing %i particles out of %i for case %s\" % (sum(mask),len(data),d['name']))\n",
    "            figs.append(plotphasespace(data[mask,:], color=d['color'], decorator=lambda fig: plotDecorate(fig,d['name'])))"
   ]
  },
  {
   "cell_type": "markdown",
   "metadata": {},
   "source": [
    "## Field Diagnostics"
   ]
  },
  {
   "cell_type": "code",
   "execution_count": 6,
   "metadata": {
    "collapsed": false
   },
   "outputs": [],
   "source": [
    "elects = OpenPMDTimeSeries('./diags/fields/electric/')\n",
    "magts = OpenPMDTimeSeries('./diags/fields/magnetic/')\n",
    "# print(opmd_viewer.openpmd_timeseries.data_reader.params_reader.read_openPMD_params(ts.h5_files[0]))\n",
    "%matplotlib inline\n",
    "for ts in [elects,magts]:\n",
    "    if ts.avail_circ_modes is None:\n",
    "        ts.avail_circ_modes = []"
   ]
  },
  {
   "cell_type": "markdown",
   "metadata": {},
   "source": [
    "### Electric fields"
   ]
  },
  {
   "cell_type": "code",
   "execution_count": 7,
   "metadata": {
    "collapsed": false
   },
   "outputs": [],
   "source": [
    "elects.slider()"
   ]
  },
  {
   "cell_type": "markdown",
   "metadata": {},
   "source": [
    "### Expected electric field of line charge\n",
    "\n",
    "$ E_r \\approx \\frac{\\lambda}{2\\pi r \\epsilon_0} \\approx \\frac{I/v_z}{2\\pi r \\epsilon_0} $\n",
    "\n",
    "$ E_r( r = 0.01 ~ m ) \\approx 0.103 ~ V/m $"
   ]
  },
  {
   "cell_type": "markdown",
   "metadata": {},
   "source": [
    "### Magnetic fields"
   ]
  },
  {
   "cell_type": "code",
   "execution_count": 8,
   "metadata": {
    "collapsed": false
   },
   "outputs": [],
   "source": [
    "magts.slider()"
   ]
  },
  {
   "cell_type": "markdown",
   "metadata": {},
   "source": [
    "### Expected magnetic field of line current:\n",
    "\n",
    "$ B_t(r) \\approx \\frac{\\mu_0 I}{2\\pi r} $\n",
    "\n",
    "$ B_t(r = 0.01 ~ m) \\approx 2 \\times 10^{-10} ~ T $"
   ]
  },
  {
   "cell_type": "code",
   "execution_count": 9,
   "metadata": {
    "collapsed": false
   },
   "outputs": [],
   "source": [
    "def linePlotField(field,component,data,zslice=None,it=-1,title=None):\n",
    "    (F,info) = data.get_field(field, component, iteration=data.iterations[it])\n",
    "    r = np.arange(start=0, stop=info.rmax + info.dr,step=info.dr)\n",
    "    r = np.hstack((-r[::-1],r)) # generate array the same way get_field does, INCLUDING the duplication of middle element\n",
    "    if zslice is None:\n",
    "        zslice = int(F.shape[1]/2) * info.dz\n",
    "        nz = int(F.shape[1]/2)\n",
    "    else:\n",
    "        nz = int(zslice/info.dz)\n",
    "        \n",
    "    Fsliced = F[:, nz]\n",
    "    \n",
    "    f = plt.figure()\n",
    "    plt.plot(r, Fsliced*np.sign(r))\n",
    "    \n",
    "    plt.xlabel('Radial position (m)')\n",
    "    zlabel = ('%.2E' if nz*info.dz < 0.1 else '%.2f') % (nz*info.dz)\n",
    "    plt.title('Field %s%s at position z=%s m, t=%.2E s' % (field,component,zlabel,data.t[it]), y=1.05)\n",
    "    \n",
    "    return f\n",
    "    \n",
    "def linePlotEr(data, zslice=None, it=-1):\n",
    "    f = linePlotField(field='E', component='r', data=data, zslice=zslice, it=it)\n",
    "    plt.ylabel('Electric field (V/m)')\n",
    "    return f\n",
    "    \n",
    "def linePlotBt(data, zslice=None, it=-1):\n",
    "    f = linePlotField(field='B', component='t', data=data, zslice=zslice, it=it)\n",
    "    plt.ylabel('Magnetic field (T)')\n",
    "    return f"
   ]
  },
  {
   "cell_type": "code",
   "execution_count": 10,
   "metadata": {
    "collapsed": false,
    "scrolled": false
   },
   "outputs": [
    {
     "data": {
      "image/png": "[encoded data removed]",
      "text/plain": [
       "<matplotlib.figure.Figure at 0x7f14a1540f90>"
      ]
     },
     "metadata": {},
     "output_type": "display_data"
    },
    {
     "data": {
      "image/png": "[encoded data removed]",
      "text/plain": [
       "<matplotlib.figure.Figure at 0x7f14a1758950>"
      ]
     },
     "metadata": {},
     "output_type": "display_data"
    },
    {
     "data": {
      "image/png": "[encoded data removed]",
      "text/plain": [
       "<matplotlib.figure.Figure at 0x7f14a0cb5b90>"
      ]
     },
     "metadata": {},
     "output_type": "display_data"
    },
    {
     "data": {
      "image/png": "[encoded data removed]",
      "text/plain": [
       "<matplotlib.figure.Figure at 0x7f14a0cb55d0>"
      ]
     },
     "metadata": {},
     "output_type": "display_data"
    },
    {
     "data": {
      "image/png": "[encoded data removed]",
      "text/plain": [
       "<matplotlib.figure.Figure at 0x7f14a0c2fb90>"
      ]
     },
     "metadata": {},
     "output_type": "display_data"
    },
    {
     "data": {
      "image/png": "[encoded data removed]",
      "text/plain": [
       "<matplotlib.figure.Figure at 0x7f14a0a46fd0>"
      ]
     },
     "metadata": {},
     "output_type": "display_data"
    },
    {
     "data": {
      "image/png": "[encoded data removed]",
      "text/plain": [
       "<matplotlib.figure.Figure at 0x7f14a0b36d10>"
      ]
     },
     "metadata": {},
     "output_type": "display_data"
    },
    {
     "data": {
      "image/png": "[encoded data removed]",
      "text/plain": [
       "<matplotlib.figure.Figure at 0x7f14a0a46ad0>"
      ]
     },
     "metadata": {},
     "output_type": "display_data"
    }
   ],
   "source": [
    "for z in np.arange(0.0,1.0,0.25):\n",
    "    linePlotEr(elects,zslice=z,it=int(len(elects.iterations)/3))\n",
    "    linePlotBt(magts,zslice=z,it=int(len(magts.iterations)/3))"
   ]
  },
  {
   "cell_type": "code",
   "execution_count": 11,
   "metadata": {
    "collapsed": false
   },
   "outputs": [
    {
     "name": "stderr",
     "output_type": "stream",
     "text": [
      "/home/vagrant/.pyenv/versions/2.7.10/lib/python2.7/site-packages/ipykernel/__main__.py:5: RuntimeWarning: divide by zero encountered in divide\n"
     ]
    },
    {
     "data": {
      "text/plain": [
       "(-3e-10, 3e-10)"
      ]
     },
     "execution_count": 11,
     "metadata": {},
     "output_type": "execute_result"
    },
    {
     "data": {
      "image/png": "[encoded data removed]",
      "text/plain": [
       "<matplotlib.figure.Figure at 0x7f14a07db510>"
      ]
     },
     "metadata": {},
     "output_type": "display_data"
    }
   ],
   "source": [
    "f = linePlotBt(magts,zslice=0.5,it=-1)\n",
    "a = f.axes[0]\n",
    "a.lines[0].set_label('Simulation')\n",
    "r = a.lines[0].get_xdata()\n",
    "plt.plot(r, -2*1e-7*10e-6/r, color='r', linestyle='--', label='Line current')\n",
    "plt.legend()\n",
    "plt.ylim([-3e-10,3e-10])"
   ]
  },
  {
   "cell_type": "code",
   "execution_count": null,
   "metadata": {
    "collapsed": true
   },
   "outputs": [],
   "source": []
  }
 ],
 "metadata": {
  "kernelspec": {
   "display_name": "Python 2",
   "language": "python",
   "name": "python2"
  },
  "language_info": {
   "codemirror_mode": {
    "name": "ipython",
    "version": 2
   },
   "file_extension": ".py",
   "mimetype": "text/x-python",
   "name": "python",
   "nbconvert_exporter": "python",
   "pygments_lexer": "ipython2",
   "version": "2.7.10"
  },
  "widgets": {
   "state": {
    "0052e712a24f40479e2a26ad5295452e": {
     "views": []
    },
    "00609b9468974f139f45df202b66cff9": {
     "views": []
    },
    "0070b62cd88e48adb7ae6f430a843e53": {
     "views": []
    },
    "014d85019280464584f6bdc539ce493f": {
     "views": []
    },
    "01bd3802164047159cc371d8f6fcc7e2": {
     "views": []
    },
    "0225c57395864f59a8d23ecc15bf987a": {
     "views": []
    },
    "02dbe9712cfc44b2912015aabb2a06fb": {
     "views": []
    },
    "033629c652a4423ea31ce1f0f133bd70": {
     "views": []
    },
    "0364d7bb0d5547b6badee4388193c72e": {
     "views": []
    },
    "03c4046693d446f8a1acb105fe485ed7": {
     "views": []
    },
    "04a011e4520a47ad857d9578281fa599": {
     "views": []
    },
    "051e1d6989574bb2a10a29b200517e07": {
     "views": []
    },
    "054d858e0b5147d6943c25f07ac9bbf7": {
     "views": []
    },
    "05c8ffb0e29f4ed6a563b51bdfe39e60": {
     "views": []
    },
    "06ed81a22fe3498f9af0cc1419d69f1d": {
     "views": []
    },
    "0b549d2953ad49d38626562a8bbf7088": {
     "views": []
    },
    "0bdd31f84e2a413487f191b217dac280": {
     "views": []
    },
    "0c0767e54aa943748aa8ed993e564bd9": {
     "views": []
    },
    "0c0c3bdf998c4da58e3ab42c5c100c6f": {
     "views": []
    },
    "0c1528c8c7c4448fab8f22499b0cbabb": {
     "views": []
    },
    "0c9d725f5a824f12a826647c65b210ad": {
     "views": []
    },
    "0d205a84b43d420eb4f2ee157dd134a3": {
     "views": []
    },
    "0d3e8f431fab41f7a95165906f904ef6": {
     "views": []
    },
    "0d7eab18c18f4347bdfb7e0913ec41b7": {
     "views": []
    },
    "0e4fb8956bd0448aa352ef369a575ae3": {
     "views": []
    },
    "0f1ddcb54f634d9385a1a81f6601d9b5": {
     "views": []
    },
    "0f75c14c8bdd43418eed02b1e5d22286": {
     "views": []
    },
    "0fe98d3025ee4549ad65f24a72b4adbd": {
     "views": []
    },
    "1011f23fdcd64c6d86fda495a18ebac5": {
     "views": []
    },
    "1052f04bf7fa410b985c2f2a5d017edc": {
     "views": []
    },
    "109ecf61272f4a7b969e4633b23623c4": {
     "views": []
    },
    "10baf67ec8494fdf88052350e64ffd0a": {
     "views": []
    },
    "119025f08614447bae9e4c21b8b411e1": {
     "views": []
    },
    "1216df1466184123a76172dee801bc32": {
     "views": []
    },
    "146ac7576eec40afb937f82389e73c17": {
     "views": []
    },
    "17060b7a59da440b887dfcffcd88b0c2": {
     "views": []
    },
    "175e935c42a84d55a4756b03f6fbf4d3": {
     "views": []
    },
    "17ccb3aa58fa47bc9531e3fc4e70ddc0": {
     "views": []
    },
    "18129dfa3ac04cbf9a1a8db1bacd1d2e": {
     "views": []
    },
    "18d12195dc81417e974e8b6c8fd46994": {
     "views": []
    },
    "1931feaad004461798a184e31511758b": {
     "views": []
    },
    "196f58398e854b1b8d881e8f0993e7a7": {
     "views": []
    },
    "19c0721dad78481ebc4569563af12dba": {
     "views": []
    },
    "1a51101ca4984615b4880bb2ef9014be": {
     "views": []
    },
    "1c204471026f477bbb72bd8555c49491": {
     "views": [
      {
       "cell_index": 9
      }
     ]
    },
    "1c4898cebe1d4f1fb05df62d16ce9ec4": {
     "views": []
    },
    "1f56b15d80974989b18786dc4a3f4d0f": {
     "views": []
    },
    "1fae9496f6d94734a82db78d65bc4978": {
     "views": []
    },
    "20a34d4517c04b9a8fdd7ef3f250ae84": {
     "views": []
    },
    "2139a6da1d6946598cf204e9d7cfa08f": {
     "views": []
    },
    "21f1a396dc1e4b2f8682b61f6db54084": {
     "views": []
    },
    "22c48c75c43c4707a35356883f6b206b": {
     "views": []
    },
    "23f9672375cd496ead007e063ec5eb2e": {
     "views": []
    },
    "2596ca3a473646f89b22542adc8e0f96": {
     "views": []
    },
    "265871717ac34fc6986f16e26856ce8e": {
     "views": []
    },
    "26624abebcff4dcaa51d01dc0688734b": {
     "views": []
    },
    "27c0a38561094960807ab3999cca334c": {
     "views": []
    },
    "27f34bf8530b4aad8e954c4e083a5e40": {
     "views": []
    },
    "2a5b7b6df66e47be8f36b72c2383ab10": {
     "views": []
    },
    "2acb3c6971834efdb5011152beea6799": {
     "views": []
    },
    "2ba9f5bc110e48e7803dcd664fb3f66e": {
     "views": []
    },
    "2c1e8ec51e85470e99cb59ff0dcb58f3": {
     "views": []
    },
    "2d7a281db58d463483ce79e7d21b657c": {
     "views": []
    },
    "2e73b1fbd4444136ad071e9d33f4aab3": {
     "views": []
    },
    "2f4c28974df34bfcadd20f408ff34057": {
     "views": []
    },
    "2fcd17894f804779ae5e02a76223d512": {
     "views": []
    },
    "2fe37b66dd6949268f0cd0fce4f28e25": {
     "views": []
    },
    "301026bd3d5c40478121ee667508907b": {
     "views": []
    },
    "301e836fd489419686d778e813aa181e": {
     "views": []
    },
    "3063735d5d4a451d9d5bfb82d38a2e9a": {
     "views": []
    },
    "315a85b8d23c447b86a05f5f1edae986": {
     "views": []
    },
    "322b2708677243598d8fe9e8eaa3bda4": {
     "views": []
    },
    "32710a3d10234eca990708737f0f2f30": {
     "views": []
    },
    "32cb5843de6041f6804c750fcd40d4c6": {
     "views": []
    },
    "3377de80f95141e4a4666fa86051f1eb": {
     "views": []
    },
    "343504f476ae41cab8abc6c5deedd068": {
     "views": []
    },
    "3459ce60e7d64338a3cfb33e3581d34e": {
     "views": []
    },
    "3554e0c38001402f8c1f9beab6277796": {
     "views": []
    },
    "357887e271f448669abe55feda246141": {
     "views": []
    },
    "372d5480a00e470f8140c04b960aefc6": {
     "views": []
    },
    "37e75e17e4bd44ba909bace7011aee82": {
     "views": []
    },
    "3841c26fd35a48628a44712998a2bf20": {
     "views": [
      {
       "cell_index": 9
      }
     ]
    },
    "38a90d4ef42a49b08157682576039e27": {
     "views": []
    },
    "393630366d7d4fb6b8327f611bd50b5a": {
     "views": []
    },
    "3975467e4567415caa59ec7d22f8006a": {
     "views": []
    },
    "3a14f47d0b9846c9be583461cfd94098": {
     "views": []
    },
    "3a2160ed1bbb494ebff538409be2ef04": {
     "views": []
    },
    "3bcc79d7ae4c4fa492dff9e30bc3b17b": {
     "views": []
    },
    "3d38f2895ea14b64b3c311820e50840d": {
     "views": []
    },
    "3d9e2191fb04453db710af0f0bbf8686": {
     "views": []
    },
    "3e4f1cfcb2724eb8869f8de9ed55d697": {
     "views": []
    },
    "412b2cdf659741eaaa4ee7f54aa8bdc0": {
     "views": []
    },
    "42c20fcc6cc64230acd18d6204463866": {
     "views": [
      {
       "cell_index": 12
      }
     ]
    },
    "43a9e73876cc404988329e13eed92ec7": {
     "views": []
    },
    "449402710a8a4826a8019aad68a8c556": {
     "views": []
    },
    "44f2d3e8426a40adbc468d0e3da3cf63": {
     "views": []
    },
    "44fac98e26994f3096587d698c4e7db4": {
     "views": []
    },
    "45c2585a32ad45f192358b4dfd3b259a": {
     "views": []
    },
    "47ac524531fe4e2a9cefc4b7143c1a3b": {
     "views": []
    },
    "47cb0241b93f4d4e8dc6dd5dce15aab7": {
     "views": []
    },
    "47cc9413556d4d79be0d39639f58f03a": {
     "views": []
    },
    "47f4263e24b74d64b60d4e01be871c76": {
     "views": []
    },
    "480d68e689ea431e80f05550cd3c923c": {
     "views": []
    },
    "4815d445e89a4a2bb28d63c920f81344": {
     "views": []
    },
    "48598190f15d47a7a24b33a71da407fb": {
     "views": []
    },
    "48a73719142549219db366d8fc5a36cc": {
     "views": []
    },
    "48bd959dccf9476fb574195964576e3d": {
     "views": []
    },
    "48de718082f74dcb8ffe3f03b66fa6ae": {
     "views": []
    },
    "48e8843029754e5c92015662f79d7676": {
     "views": []
    },
    "49b64339e3df48d089f4e756a2f2c856": {
     "views": []
    },
    "4a7be23e0e4e40668a8c5099a4f3ac90": {
     "views": []
    },
    "4b0f69e4a2bf49b0b10e6e2685b591b3": {
     "views": []
    },
    "4ef8eb0558d34c38b0f3652a79a0a34e": {
     "views": []
    },
    "4f21294b6b474597901e78e771f97f7b": {
     "views": []
    },
    "50749ff2dea847b59d01ce31b95fde13": {
     "views": []
    },
    "511c12e7a0394e3fa7f0b0b9fe916006": {
     "views": []
    },
    "517b34bb393d4dfab195135109bc564f": {
     "views": []
    },
    "51a4b67fcbc94cf1a802aa47ffc4d1c5": {
     "views": []
    },
    "532776d1e9fe459f84f4fb85d03dd5c6": {
     "views": []
    },
    "537ece7842d44981a0eb7acad2ad3ba5": {
     "views": []
    },
    "53932de2cc334ffeb936ed83ad679a52": {
     "views": []
    },
    "548ea94890a14b8a82ddc8942fa02cc7": {
     "views": []
    },
    "5647ad4566de4d1bb70f82731a064062": {
     "views": []
    },
    "575a68f5fc36432b91305db5eb5e206b": {
     "views": []
    },
    "5766ee47999f447ab0d8e73072809e0a": {
     "views": []
    },
    "58478b262d0a411c8e2e27aad0240722": {
     "views": []
    },
    "58da63265e1347018140c61c0427c9f5": {
     "views": []
    },
    "5942830dc0044810816442df28c993ea": {
     "views": []
    },
    "595629b038c84f3e9851907a97c607c8": {
     "views": []
    },
    "5966f1ac912c4d62b96a2ddeec8facce": {
     "views": []
    },
    "5be2b4358fdb454085daa0a68cd25833": {
     "views": []
    },
    "5da65ed364ce469f8d516d148168b6c8": {
     "views": []
    },
    "5e17323b6317498299174a327499ab1c": {
     "views": [
      {
       "cell_index": 12
      }
     ]
    },
    "5f749dcb4dba413ca5b27b6916dff494": {
     "views": []
    },
    "5fea79bdc5e1455fab417fb305c554e9": {
     "views": []
    },
    "60083302c359429aac2b89c96719f467": {
     "views": []
    },
    "603c384e33404b5ca5f942d86216d056": {
     "views": []
    },
    "60ed8f631eee4f119bcd83cd2a7d858d": {
     "views": []
    },
    "6285f7904d264f3eafe2967ae0c73af4": {
     "views": []
    },
    "636bfdc230144dc9ace103ffbf2dc80f": {
     "views": []
    },
    "6413d00763054aa0806174c48c9b3dfc": {
     "views": []
    },
    "646bbdfaf1d140229b1731b0e564a418": {
     "views": []
    },
    "660b082bc5b146bfbaf403ab3f5d2704": {
     "views": []
    },
    "6729c39b91f74fe0afddf5b58918300b": {
     "views": []
    },
    "678e0eff38d543a580c44f5b0c369860": {
     "views": []
    },
    "67a49541db014092a47077435999435a": {
     "views": []
    },
    "69517409e6754faab408d37814aa18ac": {
     "views": []
    },
    "69ec8bea00964f4d8204ae6331b70c45": {
     "views": []
    },
    "6a8aa2c3b21c4af0a710e01535fd1641": {
     "views": []
    },
    "6a967b796f3a46d09dc01321738c3078": {
     "views": []
    },
    "6b020d474bbe4463b0bea90f798f9ab5": {
     "views": []
    },
    "6efd50c0d7044d27bdbdf4fc0e3cc75f": {
     "views": []
    },
    "6f0d0389d3c84dd79c37dbc79fde1f50": {
     "views": []
    },
    "6f64e1d4beb24edd813f84f71168a98a": {
     "views": []
    },
    "6f9fb6ce736549d6a8df1aa654102c48": {
     "views": []
    },
    "7045c30d63c54a5bbda033546eb5c632": {
     "views": []
    },
    "7484593b78074351bb8fae1af1467035": {
     "views": []
    },
    "74e90db6beda4a50848e77af8444268c": {
     "views": []
    },
    "75186e8da29543229d74387d50170530": {
     "views": []
    },
    "76194b78219e4283862ce4095d35c7b7": {
     "views": []
    },
    "76ff57ffdb9344c09e63eb2b39dfba44": {
     "views": []
    },
    "77257b5f82d74877abea255f5c367295": {
     "views": []
    },
    "7795a3449c884a40b91c928bff54a1b3": {
     "views": []
    },
    "77b71f01b1154b84aed1dd83161936da": {
     "views": []
    },
    "77bb95788f8c47b18ab831c1e19bf905": {
     "views": []
    },
    "78ad3334cb754982a96f2989c18f0b48": {
     "views": []
    },
    "7ac01f0a906a4962923afcbe54e408ea": {
     "views": []
    },
    "7b3a04ab374041f3b329bf19c137120b": {
     "views": []
    },
    "7be348ab962d434bb7a63574bef38492": {
     "views": [
      {
       "cell_index": 9
      }
     ]
    },
    "7cb67bb8e35a492fb76e742fb7e95f6b": {
     "views": []
    },
    "7d057cf0df8b4186bbed015b662767f9": {
     "views": []
    },
    "7d26bd178e8144f0b7605a0839ebc7a3": {
     "views": []
    },
    "7f78e9efdd2549b5abba5dc8977964ea": {
     "views": []
    },
    "7fcc05b007d74ed183041d9b03056818": {
     "views": []
    },
    "7fd1f3297d654c5981cd7a4b638ea5b2": {
     "views": []
    },
    "7fe68e7fff9347c7bfc0b344be1b39a4": {
     "views": []
    },
    "80b84276da134da9a3ef3316ffa990fd": {
     "views": []
    },
    "81152d4a77764faf8c517c51b354cdb7": {
     "views": []
    },
    "81d9a0be8c134f3bab9730fded6bfcaa": {
     "views": []
    },
    "81dff55c1f12453eaa99bf04e5210f33": {
     "views": []
    },
    "828e8d2e20824cdab8adabb2b88f85d5": {
     "views": []
    },
    "84a8bdbce2f14ce4908fc7e4b3b37d6a": {
     "views": []
    },
    "84bab397e7e54df092a79cdbe1d353d9": {
     "views": []
    },
    "86074bb376b44d8a898b730a389e3f5e": {
     "views": []
    },
    "862b4802ef51429ca08ba617587bc7ea": {
     "views": []
    },
    "8661632c74fd4796a51dbdc73136bd02": {
     "views": []
    },
    "86ea1f3de38840c38c57ab9fb001870a": {
     "views": []
    },
    "875ad928d37140cdabaaf3576acc77ad": {
     "views": []
    },
    "8b6e34eb93f04fcfa19b7b4d84e117a8": {
     "views": []
    },
    "8c2375fb19e8452c85474e0e18eb9ee7": {
     "views": []
    },
    "8d53d5816dfa4ce6a90edeb47445f4c2": {
     "views": []
    },
    "8e12b97d7cc340cbb338e808bbd9bbd6": {
     "views": []
    },
    "8e7fc3e150344b1c877c503d51a79dcf": {
     "views": []
    },
    "8f6d4b10c2a547c199e33bac8bb4bc97": {
     "views": []
    },
    "904651ff0cc249669d00b7b48982ec62": {
     "views": []
    },
    "92207e14a1cb4425a901a26a2d06109f": {
     "views": []
    },
    "924e89a5f03e471bbfac1e5ce7f9f2ca": {
     "views": []
    },
    "937bf2a6bb7a452e834d176ec9812d3a": {
     "views": []
    },
    "93a37bcab2e14dd7b0916d6c0339b561": {
     "views": []
    },
    "93fad82af7dd49b5a8861f3175727eef": {
     "views": []
    },
    "943f14a49897469991c7d645cad5b416": {
     "views": []
    },
    "95a78989379e48198b580a37ed1dc1ed": {
     "views": []
    },
    "971847517d484befb3f186f8ed3911cd": {
     "views": []
    },
    "978f876c9f1340728de2be8d17c582b2": {
     "views": []
    },
    "9828d7a8cebf46209fa775c3be36a2d3": {
     "views": []
    },
    "99f5f2adf72f424895d583b2196158e4": {
     "views": []
    },
    "9a88dbfbf3564a0f964ae55afeb6c473": {
     "views": []
    },
    "9aaa308f70fd41b6b6824c5c93e7f94c": {
     "views": []
    },
    "9bb32005a89b45b7aa5aa91e80c0c7c9": {
     "views": []
    },
    "9c5999a8ac0145c39d238ba14bb9545f": {
     "views": []
    },
    "9c747e7c3b8447a98f07bfe7c5210280": {
     "views": []
    },
    "9ca25e0a5f1e4621846f2bd574d8c4e0": {
     "views": []
    },
    "9d7b237536814e8f9de2dfc63a80667a": {
     "views": []
    },
    "9dccf7b976104b0e9e2ac4e7dd0010dc": {
     "views": []
    },
    "9dd3bc0bee9644aab0d3912d96243a05": {
     "views": []
    },
    "9f59f0007c99459f9f666ec7a1138f23": {
     "views": []
    },
    "a0308c28452f4c9eb707e066110478ec": {
     "views": [
      {
       "cell_index": 9
      }
     ]
    },
    "a18e4ba6094e419c8589b3ebc33e2d85": {
     "views": []
    },
    "a341f757828849c3b8d557cc22a377bd": {
     "views": []
    },
    "a3919a06cc9d446da7bc0f2f9fc22154": {
     "views": []
    },
    "a41df1d4a448468c8d492ad40c236c8e": {
     "views": []
    },
    "a42b5dbe27484b0caf77553ab16ffa21": {
     "views": []
    },
    "a495683c49344a5bb28db7da52fcf427": {
     "views": []
    },
    "a51a2351c6b942e7b953e0e54cce7df9": {
     "views": []
    },
    "a558b40ee2654f90af59c2ef215b676d": {
     "views": [
      {
       "cell_index": 12
      }
     ]
    },
    "a5927a3d167d4fc5875e9e398b276018": {
     "views": []
    },
    "a59fea1506014c96a0f305aac4d78ed6": {
     "views": []
    },
    "a6be157c42fd489ab0002bebb7d34793": {
     "views": []
    },
    "a71770735db44ac1999179ab4067f9e5": {
     "views": []
    },
    "a7400ee3016b4b42b6f361bc6e79d709": {
     "views": []
    },
    "a7c4c0b0aef74860bd935f5e888cf4f1": {
     "views": []
    },
    "a80b190f2ae34e8b9aa4be45123f9c47": {
     "views": []
    },
    "a8662714818a47fe93f95d5a0c165267": {
     "views": []
    },
    "a87e870335d44b9ea5fe6382c25c2de4": {
     "views": []
    },
    "a8b246b51c0f477487e3986a0f1ec8f9": {
     "views": []
    },
    "a8bf46c6e5d547d2b503ab1584a9e82b": {
     "views": []
    },
    "a9508733bf1a4308a6a4c8335f31a954": {
     "views": []
    },
    "a99d2e59fab445c796f72b36dc5bca40": {
     "views": []
    },
    "a9b299e6fa104b8e9889f8467783c685": {
     "views": []
    },
    "aabf9f99d52848a2959529836274470d": {
     "views": []
    },
    "aac7f65e9dda4e9d8d237d57c48b072b": {
     "views": []
    },
    "acb047f28daf4374a3f053cca3f84519": {
     "views": []
    },
    "acb563b566484b26b51064a1052ccf22": {
     "views": []
    },
    "ad42972ef3d34316b0da6f71b772e891": {
     "views": []
    },
    "ad8348e6f52c4c90a364c4a019fd70a5": {
     "views": []
    },
    "ada419f2a3e34e7a9ca8827eb8e3e238": {
     "views": []
    },
    "ade31ff549534d12aff59bbcffeaf018": {
     "views": []
    },
    "ae17d96296c74bc69c7cfc67291ba268": {
     "views": []
    },
    "ae259ef308364304b79d31c2a4137011": {
     "views": []
    },
    "ae2941ac65894638a22275a8e6d620c6": {
     "views": []
    },
    "ae9d1e4f632040f28b1758915aea363b": {
     "views": []
    },
    "b0fa28b8a5ea486b861bb357bc83b5e1": {
     "views": []
    },
    "b1008255cbb84c4aa4a12390fd7bd155": {
     "views": []
    },
    "b154f9ca60c14affb55bd1a0efd01a9b": {
     "views": []
    },
    "b1898aea3db34ef0946b344bf2d3a8ec": {
     "views": []
    },
    "b20a16e1a8974705a8248e7d02c97c0e": {
     "views": []
    },
    "b3b18e46ffd94f069d62c84d89492ace": {
     "views": []
    },
    "b3d85125bb6443ac886533e4d9d7aee1": {
     "views": []
    },
    "b3ee71893d9c401f82b16f53d630e455": {
     "views": []
    },
    "b3fa2759843e41bb980da8413e2e93e5": {
     "views": []
    },
    "b4b87c445a5a427ab8082c595f1b9feb": {
     "views": []
    },
    "b5ba1a5030c14300b4f237dd58b80937": {
     "views": []
    },
    "b6cea36458de45b18701be2e7af4f2e7": {
     "views": []
    },
    "b7b545c4373a4e85a4eccd8cea5f72aa": {
     "views": []
    },
    "b9b586331057437387162f8de29ce4c3": {
     "views": []
    },
    "b9ec44ad192a4fe0907e904e6cdbfa79": {
     "views": []
    },
    "b9f8146b75484a6db1b1a20a5633ecd1": {
     "views": []
    },
    "baa4ca7da5d54220b40b6f9c3de9c24f": {
     "views": []
    },
    "bb4a60516a20438ba674169dca0787ec": {
     "views": []
    },
    "bc14dde3c2344e9994d506dc538d7e70": {
     "views": []
    },
    "bd9fc5d2666e42feb959c13b2dd7c195": {
     "views": []
    },
    "bdbfaffdab504067b90d4b6e529cd234": {
     "views": []
    },
    "be690f4bfdbe46209f87b1ded7a4dff5": {
     "views": []
    },
    "bef36e55ef59478b80d5f2528e528ee4": {
     "views": []
    },
    "c044e4e764534450b2fbe34d1a391712": {
     "views": []
    },
    "c0877c75a24e433f8d61e04cf93d14d2": {
     "views": []
    },
    "c105d15a591e4aac95ce613174a82b96": {
     "views": []
    },
    "c1626cd0701b4282a409ee418529d01e": {
     "views": []
    },
    "c17782a299d340e197821421f84a5477": {
     "views": []
    },
    "c1f2eb2488eb49c0b5959e5b9587da71": {
     "views": []
    },
    "c393f5119aa44174960272afef01a008": {
     "views": []
    },
    "c3fd418a29b74fb09ab9ae00eb791f9f": {
     "views": []
    },
    "c40d2741335c439aada27d977ff1957d": {
     "views": []
    },
    "c587e63f0119420a95879bb8eb1b8d5e": {
     "views": []
    },
    "c614043d6d504b8fb628591112e27bea": {
     "views": []
    },
    "c67ac5e8a0054ed5bef84c41392a2f34": {
     "views": []
    },
    "c73581a34bcf41c9a721ca1abaad16a8": {
     "views": []
    },
    "c840c7d74bb243f2a090e4e95f8feff1": {
     "views": []
    },
    "c877c377e4044f7c974304b2650d54d8": {
     "views": []
    },
    "c8a7b05072ec42e6a01e9b46924edb45": {
     "views": []
    },
    "c9edbdd445c14dc2853175531515589d": {
     "views": []
    },
    "ca87451131324e2a81601c98bff6785c": {
     "views": []
    },
    "cbc673a8a26f4c32b1a0f9599d4949f6": {
     "views": []
    },
    "cde95954899f40afab76a92bc3dd1a38": {
     "views": []
    },
    "ce1a073177514bf8bdfc9aa6e3dff609": {
     "views": [
      {
       "cell_index": 11
      }
     ]
    },
    "ce3230bd5e60431eba90b1c6479b148c": {
     "views": []
    },
    "cec0f54960c14783baf7b7a9a3cf920b": {
     "views": []
    },
    "cf38752d10a741a996960acca306fdf7": {
     "views": []
    },
    "cfd111439a1e4fd48ac05632ab2d1e73": {
     "views": []
    },
    "d00d81c490c148339e549e7fe6e6d370": {
     "views": []
    },
    "d062a4939114452a9cde32343ef94004": {
     "views": []
    },
    "d19bb212c69244368a79f999861f8586": {
     "views": []
    },
    "d1e1d1459bef46c5bf6babcf5b4f963c": {
     "views": []
    },
    "d356902e3c06499bbc3345b0363bc990": {
     "views": []
    },
    "d439e8d941ee4752a7e27a82d896c07c": {
     "views": []
    },
    "d52d6f8cd5e64c628c1a3135cbcae28c": {
     "views": []
    },
    "d6306a083b9b47c0a738d897808051ea": {
     "views": []
    },
    "d6c41aafc24249efb33b73e586328804": {
     "views": []
    },
    "d745306b633b4c43bac2b0477d5b9eef": {
     "views": []
    },
    "d80348072a334867b6421ad8d48ab7e9": {
     "views": []
    },
    "d862ea575f7745ccb7df65dafe365135": {
     "views": []
    },
    "d8f5f6c3de754b9f881d5d2f7afe1349": {
     "views": []
    },
    "d90f78c0de764452ab44d0d646862db5": {
     "views": []
    },
    "d9acbbec1a1f421db03e5e11ebb5e5d8": {
     "views": []
    },
    "d9e639301ae34d94826dff18ae6624af": {
     "views": []
    },
    "da0b83c8b991401696ef009c2a07cc9d": {
     "views": []
    },
    "dc46361ed07f43a8b31ae9e83f327db2": {
     "views": [
      {
       "cell_index": 9
      }
     ]
    },
    "dc862765f55c4570bea34ab98755893a": {
     "views": []
    },
    "dcada1c9d8b145ef8903233042034753": {
     "views": []
    },
    "dceebd3a6b6c4678a5c949ea71e9e884": {
     "views": []
    },
    "de0f929b0f92461b92f86c3eabca571c": {
     "views": []
    },
    "de26a86157c345cd9ab1c0b6da83907b": {
     "views": []
    },
    "def13181377d48f4a3e9804cc3456146": {
     "views": []
    },
    "df255401e8574bc48fe71f8c70305c97": {
     "views": [
      {
       "cell_index": 9
      }
     ]
    },
    "e1425afb54c64826a04e4d1104343cf9": {
     "views": []
    },
    "e16f1c7bf35047be96ba6f675130dd34": {
     "views": []
    },
    "e255d601287048bc85d696dded64095f": {
     "views": []
    },
    "e2c9217a7f5b4462b7c9f2b1a73e9f00": {
     "views": []
    },
    "e2e3375767b04da9b5bd7d1886575d92": {
     "views": []
    },
    "e2e92315a5b5499a989ae4176c1754a0": {
     "views": []
    },
    "e3a79677e4d94c95b9ad4556a1d56be4": {
     "views": []
    },
    "e478e917ff7e4a3f8325473337ceb3f6": {
     "views": []
    },
    "e545341fc2b247808b509e71fe84c6cc": {
     "views": []
    },
    "e69f89967e794423951fac481d454a1f": {
     "views": []
    },
    "e777d8e864c74c28a2183357a50f638f": {
     "views": []
    },
    "eb605fbc01734a84b45dac8a192cf8fd": {
     "views": []
    },
    "eb831dc082ca4e65a92ca6264ca761a8": {
     "views": []
    },
    "ec8c88f5d1b642d28dffb6fb8eba8077": {
     "views": []
    },
    "ed09c91c289445e9b748f1aacf453adb": {
     "views": []
    },
    "ed12fa53ed9a49b99457649d0c1ad354": {
     "views": []
    },
    "ed58a8464d84426da59212623814d101": {
     "views": []
    },
    "edd3f8342c3a43da9ca863f898b8e91e": {
     "views": []
    },
    "ee6a659bb6d44533ac87b5cdef9bb791": {
     "views": []
    },
    "ee6f1fcdc7d149c2a66326329dfd46f1": {
     "views": []
    },
    "eec1207b542a471083296663cd014de7": {
     "views": []
    },
    "eeeb97a5d8be4500812d0dfcbbf35461": {
     "views": []
    },
    "ef9906baea9f487281fe18ca04617d87": {
     "views": []
    },
    "f024d422178f450f91fdac64ba203d64": {
     "views": []
    },
    "f21aae4eb821447887d1e6cf460d54e9": {
     "views": []
    },
    "f2592cf0a7784e7f88f57f708285b7ce": {
     "views": []
    },
    "f297172786a944bdb9ebc80273227462": {
     "views": []
    },
    "f4233a4a466b4e97a3a92538ef6a061f": {
     "views": []
    },
    "f5366e82fd38475b97e17e2d2fb9a1e0": {
     "views": []
    },
    "f5bebea6501e48dcbc32b5ced2ddb3d5": {
     "views": []
    },
    "f5e1943e03374c9a9f65b7eada238cc5": {
     "views": []
    },
    "f7ffa3554c4d4cf5bb259c45ce7a65c0": {
     "views": []
    },
    "f801923ee57b449fa4cea8cc17087e0f": {
     "views": []
    },
    "f8525be5b91544479c43b0d6349a0055": {
     "views": []
    },
    "f9807912e0f14d628f5e238eac19b9df": {
     "views": []
    },
    "f98e83398ff940789281c8f1ffe97efc": {
     "views": []
    },
    "fa248970cfb8481a9255eb801e2c4721": {
     "views": []
    },
    "fca5f98988f04cde9a7da0a0ef7fd0d3": {
     "views": []
    },
    "fcf6aa3db2ac481680fe9f8df9c51697": {
     "views": []
    },
    "fde49e55b1174959bb28c57061a5ebce": {
     "views": []
    },
    "fe27171ba3e04f8e889fb3619ea1d592": {
     "views": []
    },
    "febcd031d91543ff89c8a77d8f744393": {
     "views": []
    },
    "ffb0d0fcc04b41bab5c78a5be99546c7": {
     "views": []
    },
    "ffc3319a1e5f4a71a920a79652508eef": {
     "views": []
    }
   },
   "version": "1.1.2"
  }
 },
 "nbformat": 4,
 "nbformat_minor": 0
}
